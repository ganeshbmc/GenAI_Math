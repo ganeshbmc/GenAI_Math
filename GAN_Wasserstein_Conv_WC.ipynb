{
 "cells": [
  {
   "cell_type": "markdown",
   "id": "a8bd60b0",
   "metadata": {},
   "source": [
    "## Steps  \n",
    "1. Import libraries  \n",
    "2. Prepare data  \n",
    "   ```Download  |  Transform  |  Dataloader```  \n",
    "3. Define parameters  \n",
    "   ```Model  |  Optimizer  |  Loss  |  Training  ```\n",
    "4. Build Model  \n",
    "   ```Components  ```\n",
    "5. Training loop  \n",
    "6. Visualize results  "
   ]
  },
  {
   "cell_type": "markdown",
   "id": "88436861",
   "metadata": {},
   "source": [
    "## Import libraries  "
   ]
  },
  {
   "cell_type": "code",
   "execution_count": 42,
   "id": "ffbb02e0",
   "metadata": {},
   "outputs": [
    {
     "name": "stdout",
     "output_type": "stream",
     "text": [
      "Imports completed at 2025-08-21 14:16:34.858750\n",
      "Using device: cuda\n",
      "Torch: 2.5.1, TorchVision: 0.20.1\n"
     ]
    }
   ],
   "source": [
    "# Import libraries\n",
    "import torch\n",
    "import torch.nn as nn\n",
    "import torch.optim as optim\n",
    "import torchvision\n",
    "import torchvision.transforms as transforms\n",
    "from torch.utils.data import DataLoader\n",
    "from torchvision.utils import save_image\n",
    "\n",
    "import pandas as pd\n",
    "import numpy as np\n",
    "import matplotlib.pyplot as plt\n",
    "import seaborn as sns\n",
    "\n",
    "import os\n",
    "import time\n",
    "import datetime\n",
    "\n",
    "print(f\"Imports completed at {datetime.datetime.now()}\")\n",
    "\n",
    "# Device\n",
    "device = torch.device('cuda' if torch.cuda.is_available() else 'cpu')\n",
    "print(f\"Using device: {device}\")\n",
    "\n",
    "# Versions\n",
    "print(f\"Torch: {torch.__version__}, TorchVision: {torchvision.__version__}\")"
   ]
  },
  {
   "cell_type": "code",
   "execution_count": 43,
   "id": "a5b1def9",
   "metadata": {},
   "outputs": [],
   "source": [
    "# Create output folder\n",
    "folder_name = \"wgan_dc_wc_generated_images\"\n",
    "os.makedirs(f\"{folder_name}\", exist_ok=True)"
   ]
  },
  {
   "cell_type": "markdown",
   "id": "ffb946a5",
   "metadata": {},
   "source": [
    "## Define parameters  "
   ]
  },
  {
   "cell_type": "code",
   "execution_count": 44,
   "id": "379b7de0",
   "metadata": {},
   "outputs": [],
   "source": [
    "# Set seed for PyTorch\n",
    "seed = 42\n",
    "torch.manual_seed(seed)\n",
    "\n",
    "# Data prep params\n",
    "batch_size = 128\n",
    "\n",
    "# Model params\n",
    "z_dim = 100     # Size of noise vector\n",
    "img_dim = 28       # MNIST size\n",
    "channels = 1        # Gray scale\n",
    "img_shape = (channels, img_dim, img_dim) # MNIST shape\n",
    "\n",
    "# Optimizer params\n",
    "learning_rate = 0.0002\n",
    "# beta1 = 0.5  # Adam optimizer beta1\n",
    "\n",
    "# # Loss params\n",
    "# criterion = nn.BCELoss()\n",
    "\n",
    "# Training params\n",
    "num_epochs = 20\n",
    "generator_rounds = 1\n",
    "critic_rounds = 1           # Note we use name critic (not discriminator) in WGAN. It is deliberate.\n",
    "clip_value = 0.01"
   ]
  },
  {
   "cell_type": "markdown",
   "id": "3fdd492d",
   "metadata": {},
   "source": [
    "## Prepare data  "
   ]
  },
  {
   "cell_type": "code",
   "execution_count": 45,
   "id": "aee7c9ce",
   "metadata": {},
   "outputs": [
    {
     "name": "stdout",
     "output_type": "stream",
     "text": [
      "Transform to be applied:\n",
      "Compose(\n",
      "    ToTensor()\n",
      "    Normalize(mean=(0.5,), std=(0.5,))\n",
      ")\n",
      "\n",
      "Train data:\n",
      "Dataset MNIST\n",
      "    Number of datapoints: 60000\n",
      "    Root location: ./data\n",
      "    Split: Train\n",
      "    StandardTransform\n",
      "Transform: Compose(\n",
      "               ToTensor()\n",
      "               Normalize(mean=(0.5,), std=(0.5,))\n",
      "           )\n",
      "\n",
      "Data loader:\n",
      "<torch.utils.data.dataloader.DataLoader object at 0x7fb960a980d0>\n"
     ]
    }
   ],
   "source": [
    "# Transform\n",
    "transform = transforms.Compose([\n",
    "    transforms.ToTensor(),\n",
    "    transforms.Normalize(mean=(0.5,), std=(0.5,))\n",
    "])\n",
    "print(f\"Transform to be applied:\\n{transform}\\n\")\n",
    "\n",
    "# Load MNIST\n",
    "train_dataset = torchvision.datasets.MNIST(root='./data', train=True, download=True, transform=transform)\n",
    "print(f\"Train data:\\n{train_dataset}\\n\")\n",
    "\n",
    "# Dataloader\n",
    "train_loader = DataLoader(train_dataset, batch_size=batch_size, shuffle=True, drop_last=True) # Last batch will be 96 (6000 % 128) instead of 128, so drop to avoid problem with batch norm\n",
    "print(f\"Data loader:\\n{train_loader}\")"
   ]
  },
  {
   "cell_type": "markdown",
   "id": "5682ff0e",
   "metadata": {},
   "source": [
    "## Build Model  \n",
    "```Wasserstein GAN Convolutional with Weight Clipping```  \n",
    "- CNN as neural network  \n",
    "\n",
    "Generator\n",
    "- noise_dim -> transpose convolutions -> img_dim (1, 28, 28) with ReLU and Tanh  \n",
    "\n",
    "Discriminator\n",
    "- img_dim (1, 28, 28) -> normal convolutions -> 1 with Sigmoid activation  "
   ]
  },
  {
   "cell_type": "code",
   "execution_count": 46,
   "id": "dc4a9260",
   "metadata": {},
   "outputs": [],
   "source": [
    "# Generator  \n",
    "class Generator(nn.Module):\n",
    "    def __init__(self, z_dim, img_dim):\n",
    "        super(Generator, self).__init__()\n",
    "        self.init_size = img_dim // 4   # 7x7 initial size\n",
    "        self.fc = nn.Linear(z_dim, 128 * self.init_size * self.init_size)\n",
    "        # input size: (B, 128, 7, 7)\n",
    "        self.conv_blocks = nn.Sequential(\n",
    "            nn.BatchNorm2d(128),\n",
    "\n",
    "            nn.ConvTranspose2d(128, 64, kernel_size=4, stride=2, padding=1),   # 7x7 -> 14x14\n",
    "            nn.BatchNorm2d(64),\n",
    "            nn.ReLU(True),\n",
    "\n",
    "            nn.ConvTranspose2d(64, 1, kernel_size=4, stride=2, padding=1),   # 14x14 -> 28x28\n",
    "\n",
    "            nn.Tanh()\n",
    "        )\n",
    "\n",
    "    def forward(self, z):\n",
    "        x = self.fc(z)\n",
    "        x = x.view(z.size(0), 128, self.init_size, self.init_size)\n",
    "        return self.conv_blocks(x)"
   ]
  },
  {
   "cell_type": "code",
   "execution_count": 47,
   "id": "e0e929f3",
   "metadata": {},
   "outputs": [
    {
     "data": {
      "text/plain": [
       "Generator(\n",
       "  (fc): Linear(in_features=100, out_features=6272, bias=True)\n",
       "  (conv_blocks): Sequential(\n",
       "    (0): BatchNorm2d(128, eps=1e-05, momentum=0.1, affine=True, track_running_stats=True)\n",
       "    (1): ConvTranspose2d(128, 64, kernel_size=(4, 4), stride=(2, 2), padding=(1, 1))\n",
       "    (2): BatchNorm2d(64, eps=1e-05, momentum=0.1, affine=True, track_running_stats=True)\n",
       "    (3): ReLU(inplace=True)\n",
       "    (4): ConvTranspose2d(64, 1, kernel_size=(4, 4), stride=(2, 2), padding=(1, 1))\n",
       "    (5): Tanh()\n",
       "  )\n",
       ")"
      ]
     },
     "execution_count": 47,
     "metadata": {},
     "output_type": "execute_result"
    }
   ],
   "source": [
    "generator = Generator(z_dim=z_dim, img_dim=img_dim).to(device)\n",
    "generator"
   ]
  },
  {
   "cell_type": "code",
   "execution_count": 48,
   "id": "62ea277e",
   "metadata": {},
   "outputs": [],
   "source": [
    "# Critic  \n",
    "# In WGAN, the name Critic is deliberate (as opposed to Discriminator) as it produces raw scores instead of binary classification  \n",
    "class Critic(nn.Module):\n",
    "    def __init__(self):\n",
    "        super(Critic, self).__init__()\n",
    "        self.model = nn.Sequential(\n",
    "            # Input: (B, 1, 28, 28)\n",
    "            nn.Conv2d(1, 64, kernel_size=4, stride=2, padding=1),   # 28x28 -> 14x14\n",
    "            nn.LeakyReLU(0.2, inplace=True),\n",
    "\n",
    "            nn.Conv2d(64, 128, kernel_size=4, stride=2, padding=1),   # 14x14 -> 7x7\n",
    "            nn.BatchNorm2d(128),\n",
    "            nn.LeakyReLU(0.2, inplace=True),\n",
    "\n",
    "            nn.Flatten(),\n",
    "            nn.Linear(128 * 7 * 7, 1) # Output is a raw score\n",
    "        )\n",
    "\n",
    "    def forward(self, img):\n",
    "        return self.model(img)"
   ]
  },
  {
   "cell_type": "code",
   "execution_count": 49,
   "id": "c90a7e32",
   "metadata": {},
   "outputs": [
    {
     "data": {
      "text/plain": [
       "Critic(\n",
       "  (model): Sequential(\n",
       "    (0): Conv2d(1, 64, kernel_size=(4, 4), stride=(2, 2), padding=(1, 1))\n",
       "    (1): LeakyReLU(negative_slope=0.2, inplace=True)\n",
       "    (2): Conv2d(64, 128, kernel_size=(4, 4), stride=(2, 2), padding=(1, 1))\n",
       "    (3): BatchNorm2d(128, eps=1e-05, momentum=0.1, affine=True, track_running_stats=True)\n",
       "    (4): LeakyReLU(negative_slope=0.2, inplace=True)\n",
       "    (5): Flatten(start_dim=1, end_dim=-1)\n",
       "    (6): Linear(in_features=6272, out_features=1, bias=True)\n",
       "  )\n",
       ")"
      ]
     },
     "execution_count": 49,
     "metadata": {},
     "output_type": "execute_result"
    }
   ],
   "source": [
    "critic = Critic().to(device)\n",
    "critic"
   ]
  },
  {
   "cell_type": "markdown",
   "id": "447d69ff",
   "metadata": {},
   "source": [
    "## Set up Optimizers  "
   ]
  },
  {
   "cell_type": "code",
   "execution_count": 50,
   "id": "8b730129",
   "metadata": {},
   "outputs": [
    {
     "data": {
      "text/plain": [
       "RMSprop (\n",
       "Parameter Group 0\n",
       "    alpha: 0.99\n",
       "    capturable: False\n",
       "    centered: False\n",
       "    differentiable: False\n",
       "    eps: 1e-08\n",
       "    foreach: None\n",
       "    lr: 0.0002\n",
       "    maximize: False\n",
       "    momentum: 0\n",
       "    weight_decay: 0\n",
       ")"
      ]
     },
     "execution_count": 50,
     "metadata": {},
     "output_type": "execute_result"
    }
   ],
   "source": [
    "g_optim = optim.RMSprop(generator.parameters(), lr=learning_rate)\n",
    "g_optim"
   ]
  },
  {
   "cell_type": "code",
   "execution_count": 51,
   "id": "25165af8",
   "metadata": {},
   "outputs": [
    {
     "data": {
      "text/plain": [
       "RMSprop (\n",
       "Parameter Group 0\n",
       "    alpha: 0.99\n",
       "    capturable: False\n",
       "    centered: False\n",
       "    differentiable: False\n",
       "    eps: 1e-08\n",
       "    foreach: None\n",
       "    lr: 0.0002\n",
       "    maximize: False\n",
       "    momentum: 0\n",
       "    weight_decay: 0\n",
       ")"
      ]
     },
     "execution_count": 51,
     "metadata": {},
     "output_type": "execute_result"
    }
   ],
   "source": [
    "c_optim = optim.RMSprop(critic.parameters(), lr=learning_rate)\n",
    "c_optim"
   ]
  },
  {
   "cell_type": "markdown",
   "id": "ce9337c4",
   "metadata": {},
   "source": [
    "## Set up Loss functions  "
   ]
  },
  {
   "cell_type": "code",
   "execution_count": 52,
   "id": "4db3bee0",
   "metadata": {},
   "outputs": [],
   "source": [
    "# No separate loss function for WGAN  "
   ]
  },
  {
   "cell_type": "markdown",
   "id": "cf4c8777",
   "metadata": {},
   "source": [
    "## Code for visualizations  "
   ]
  },
  {
   "cell_type": "code",
   "execution_count": 53,
   "id": "6b6f66fa",
   "metadata": {},
   "outputs": [],
   "source": [
    "def save_n_show_generated_images(epoch, generator, folder_name=folder_name):\n",
    "    generator.eval()\n",
    "    with torch.no_grad():\n",
    "        z = torch.randn(10, z_dim, device=device)\n",
    "        labels = torch.arange(0, 10, dtype=torch.long, device=device)   # Create \n",
    "        samples = generator(z)\n",
    "        samples = samples * 0.5 + 0.5  # Denormalize\n",
    "\n",
    "        # Save the images\n",
    "        save_image(samples, f\"{folder_name}/epoch_{epoch}.png\", nrow=10)\n",
    "\n",
    "        # Display the images\n",
    "        grid = torchvision.utils.make_grid(samples, nrow=10)\n",
    "        plt.figure(figsize=(15, 3))\n",
    "        plt.imshow(grid.permute(1, 2, 0).cpu().numpy())\n",
    "        plt.title(f'Generated Digits (Epoch {epoch})')\n",
    "        plt.axis('off')\n",
    "        plt.show()\n",
    "\n",
    "    generator.train()"
   ]
  },
  {
   "cell_type": "markdown",
   "id": "8bdcc9e5",
   "metadata": {},
   "source": [
    "## Training loop  \n",
    "- Visualize results every 10 epochs  "
   ]
  },
  {
   "cell_type": "code",
   "execution_count": 54,
   "id": "0362ba8b",
   "metadata": {},
   "outputs": [],
   "source": [
    "def gan_trainer(train_loader, num_epochs=20, critic_rounds=1, generator_rounds=1):\n",
    "  # Training loop\n",
    "    for epoch in range(num_epochs):\n",
    "        for batch_idx, (real_images, _) in enumerate(train_loader):       # We will not be using MNIST class label for WGAN training\n",
    "            batch_size = real_images.size(0)\n",
    "            real_images = real_images.to(device)\n",
    "\n",
    "            ### ====================================\n",
    "            ### 1. Train Critic                       (Note that in WGAN, we train critic more than generator)\n",
    "            ### ====================================\n",
    "            for _ in range(critic_rounds):\n",
    "                # Create fake images from noise of dim (B, z_dim)\n",
    "                z = torch.randn(batch_size, z_dim, device=device)\n",
    "                fake_images = generator(z).detach()      # Detach so gradients don't flow into generator\n",
    "\n",
    "                # Calculate critic loss from scores of real and fake images\n",
    "                score_real_images = torch.mean(critic(real_images))\n",
    "                score_fake_images = torch.mean(critic(fake_images))\n",
    "                critic_loss = -score_real_images + score_fake_images    # Because we want to maximize real score (minimize neg score) and minimize fake score\n",
    "\n",
    "                # Update Critic weights\n",
    "                c_optim.zero_grad()\n",
    "                critic_loss.backward()\n",
    "                c_optim.step()\n",
    "\n",
    "                # Weight Clipping (WC) for Lipschitz constraint\n",
    "                for p in critic.parameters():\n",
    "                    p.data.clamp_(-clip_value, clip_value)\n",
    "\n",
    "            ### ====================================\n",
    "            ### 1. Train Generator                    (Note that in WGAN, we train generator less than critic)\n",
    "            ### ====================================\n",
    "            for _ in range(generator_rounds):\n",
    "                # Create images from noise of dim (B, z_dim)\n",
    "                z = torch.randn(batch_size, z_dim, device=device)\n",
    "                gen_images = generator(z)\n",
    "\n",
    "                # Calculate generator loss from scores of generated images\n",
    "                score_gen_images = torch.mean(critic(gen_images))\n",
    "                generator_loss = -score_gen_images      # We want to MAXIMIZE the score given by the critic, so we minimize neg score\n",
    "\n",
    "                # Update generator weights\n",
    "                g_optim.zero_grad()\n",
    "                generator_loss.backward()\n",
    "                g_optim.step()\n",
    "\n",
    "        # Visualize\n",
    "        if (epoch+1) % 10 == 0:\n",
    "            print(f\"Epoch: [{epoch+1}/{num_epochs}]\")\n",
    "            print(f\"Size of real images: {real_images.size()}\")\n",
    "            print(f\"Discriminator loss = {critic_loss.item():.4f}\")\n",
    "            print(f\"Generator loss = {generator_loss.item():.4f}\")\n",
    "            save_n_show_generated_images(epoch=epoch+1, generator=generator)"
   ]
  },
  {
   "cell_type": "markdown",
   "id": "a3ae30b0",
   "metadata": {},
   "source": [
    "## Training  "
   ]
  },
  {
   "cell_type": "code",
   "execution_count": 55,
   "id": "be75b034",
   "metadata": {},
   "outputs": [],
   "source": [
    "# import os\n",
    "# os.environ[\"KMP_DUPLICATE_LIB_OK\"] = \"TRUE\""
   ]
  },
  {
   "cell_type": "code",
   "execution_count": 56,
   "id": "81baf6c4",
   "metadata": {},
   "outputs": [
    {
     "name": "stdout",
     "output_type": "stream",
     "text": [
      "Training started at 5597337.530434894\n"
     ]
    }
   ],
   "source": [
    "start = time.perf_counter()\n",
    "print(f\"Training started at {start}\")"
   ]
  },
  {
   "cell_type": "code",
   "execution_count": 57,
   "id": "a12f5f61",
   "metadata": {},
   "outputs": [
    {
     "name": "stdout",
     "output_type": "stream",
     "text": [
      "Epoch: [10/20]\n",
      "Size of real images: torch.Size([128, 1, 28, 28])\n",
      "Discriminator loss = -0.0169\n",
      "Generator loss = 0.0408\n"
     ]
    },
    {
     "data": {
      "image/png": "[encoded data removed]",
      "text/plain": [
       "<Figure size 1500x300 with 1 Axes>"
      ]
     },
     "metadata": {},
     "output_type": "display_data"
    },
    {
     "name": "stdout",
     "output_type": "stream",
     "text": [
      "Epoch: [20/20]\n",
      "Size of real images: torch.Size([128, 1, 28, 28])\n",
      "Discriminator loss = -0.0164\n",
      "Generator loss = -0.0285\n"
     ]
    },
    {
     "data": {
      "image/png": "[encoded data removed]",
      "text/plain": [
       "<Figure size 1500x300 with 1 Axes>"
      ]
     },
     "metadata": {},
     "output_type": "display_data"
    }
   ],
   "source": [
    "gan_trainer(train_loader,\n",
    "            num_epochs=num_epochs,\n",
    "            critic_rounds=critic_rounds,\n",
    "            generator_rounds=generator_rounds\n",
    "            )"
   ]
  },
  {
   "cell_type": "code",
   "execution_count": 58,
   "id": "1a4a2c7a",
   "metadata": {},
   "outputs": [
    {
     "name": "stdout",
     "output_type": "stream",
     "text": [
      "Training time: 0:03:12 (192.17 s)\n"
     ]
    }
   ],
   "source": [
    "# Check training time\n",
    "elapsed = time.perf_counter() - start\n",
    "print(f\"Training time: {datetime.timedelta(seconds=int(elapsed))} ({elapsed:.2f} s)\")"
   ]
  }
 ],
 "metadata": {
  "kernelspec": {
   "display_name": "ai_env_conda",
   "language": "python",
   "name": "python3"
  },
  "language_info": {
   "codemirror_mode": {
    "name": "ipython",
    "version": 3
   },
   "file_extension": ".py",
   "mimetype": "text/x-python",
   "name": "python",
   "nbconvert_exporter": "python",
   "pygments_lexer": "ipython3",
   "version": "3.11.13"
  }
 },
 "nbformat": 4,
 "nbformat_minor": 5
}
