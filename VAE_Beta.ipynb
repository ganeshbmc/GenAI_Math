{
 "cells": [
  {
   "cell_type": "markdown",
   "id": "9ae31250",
   "metadata": {},
   "source": [
    "## Beta VAE  "
   ]
  },
  {
   "cell_type": "code",
   "execution_count": 1,
   "id": "e0d2b3f0",
   "metadata": {},
   "outputs": [
    {
     "name": "stderr",
     "output_type": "stream",
     "text": [
      "/home/jovyan/.config/matplotlib is not a writable directory\n",
      "Matplotlib created a temporary cache directory at /tmp/matplotlib-hde3ioq7 because there was an issue with the default path (/home/jovyan/.config/matplotlib); it is highly recommended to set the MPLCONFIGDIR environment variable to a writable directory, in particular to speed up the import of Matplotlib and to better support multiprocessing.\n",
      "Fontconfig error: No writable cache directories\n",
      "Fontconfig error: No writable cache directories\n",
      "Fontconfig error: No writable cache directories\n",
      "Fontconfig error: No writable cache directories\n",
      "Fontconfig error: No writable cache directories\n",
      "Fontconfig error: No writable cache directories\n",
      "Fontconfig error: No writable cache directories\n",
      "Fontconfig error: No writable cache directories\n",
      "Fontconfig error: No writable cache directories\n",
      "Fontconfig error: No writable cache directories\n",
      "Fontconfig error: No writable cache directories\n",
      "Fontconfig error: No writable cache directories\n",
      "Fontconfig error: No writable cache directories\n",
      "Fontconfig error: No writable cache directories\n",
      "Fontconfig error: No writable cache directories\n",
      "Fontconfig error: No writable cache directories\n",
      "Fontconfig error: No writable cache directories\n",
      "Fontconfig error: No writable cache directories\n"
     ]
    },
    {
     "name": "stdout",
     "output_type": "stream",
     "text": [
      "Imports completed at 2025-08-22 16:25:04.709854\n",
      "Using device: cuda\n",
      "Torch: 2.5.1, TorchVision: 0.20.1\n"
     ]
    }
   ],
   "source": [
    "# Import libraries\n",
    "import torch\n",
    "import torch.nn as nn\n",
    "import torch.optim as optim\n",
    "import torchvision\n",
    "import torchvision.transforms as transforms\n",
    "from torch.utils.data import DataLoader\n",
    "from torchvision.utils import save_image\n",
    "\n",
    "import pandas as pd\n",
    "import numpy as np\n",
    "import matplotlib.pyplot as plt\n",
    "import seaborn as sns\n",
    "\n",
    "import os\n",
    "import time\n",
    "import datetime\n",
    "\n",
    "print(f\"Imports completed at {datetime.datetime.now()}\")\n",
    "\n",
    "# Device\n",
    "device = torch.device('cuda' if torch.cuda.is_available() else 'cpu')\n",
    "print(f\"Using device: {device}\")\n",
    "\n",
    "# Versions\n",
    "print(f\"Torch: {torch.__version__}, TorchVision: {torchvision.__version__}\")"
   ]
  }
 ],
 "metadata": {
  "kernelspec": {
   "display_name": "ai_env_conda",
   "language": "python",
   "name": "python3"
  },
  "language_info": {
   "codemirror_mode": {
    "name": "ipython",
    "version": 3
   },
   "file_extension": ".py",
   "mimetype": "text/x-python",
   "name": "python",
   "nbconvert_exporter": "python",
   "pygments_lexer": "ipython3",
   "version": "3.11.13"
  }
 },
 "nbformat": 4,
 "nbformat_minor": 5
}
