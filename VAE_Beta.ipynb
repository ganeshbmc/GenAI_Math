{
 "cells": [
  {
   "cell_type": "markdown",
   "id": "9ae31250",
   "metadata": {},
   "source": [
    "# Beta VAE  "
   ]
  },
  {
   "cell_type": "markdown",
   "id": "0b74e4bb-5881-4ed9-9b7f-aab0629bd315",
   "metadata": {},
   "source": [
    "## Steps  \n",
    "1. Import libraries  \n",
    "2. Prepare data  \n",
    "   ```Download  |  Transform  |  Dataloader```  \n",
    "3. Define parameters  \n",
    "   ```Model  |  Optimizer  |  Loss  |  Training  ```\n",
    "4. Build Model  \n",
    "   ```Components  ```\n",
    "5. Training loop  \n",
    "6. Visualize results  "
   ]
  },
  {
   "cell_type": "markdown",
   "id": "a4e0d705-b86a-4341-8e15-74d232231452",
   "metadata": {},
   "source": [
    "## Import libraries  "
   ]
  },
  {
   "cell_type": "code",
   "execution_count": 2,
   "id": "8085a938-b8cc-4733-a684-01813c3e0858",
   "metadata": {
    "execution": {
     "iopub.execute_input": "2025-08-22T18:07:04.291652Z",
     "iopub.status.busy": "2025-08-22T18:07:04.291414Z",
     "iopub.status.idle": "2025-08-22T18:07:07.987016Z",
     "shell.execute_reply": "2025-08-22T18:07:07.986050Z",
     "shell.execute_reply.started": "2025-08-22T18:07:04.291629Z"
    },
    "trusted": true
   },
   "outputs": [
    {
     "name": "stdout",
     "output_type": "stream",
     "text": [
      "Imports completed at 2025-08-22 18:14:20.588917\n",
      "Using device: cuda\n",
      "Torch: 2.5.1, TorchVision: 0.20.1\n"
     ]
    }
   ],
   "source": [
    "# Import libraries\n",
    "import torch\n",
    "import torch.nn as nn\n",
    "import torch.nn.functional as F    # New import\n",
    "import torch.optim as optim\n",
    "import torchvision\n",
    "import torchvision.transforms as transforms\n",
    "from torch.utils.data import DataLoader\n",
    "from torchvision.utils import save_image\n",
    "\n",
    "import pandas as pd\n",
    "import numpy as np\n",
    "import matplotlib.pyplot as plt\n",
    "import seaborn as sns\n",
    "\n",
    "import os\n",
    "import time\n",
    "import datetime\n",
    "\n",
    "print(f\"Imports completed at {datetime.datetime.now()}\")\n",
    "\n",
    "# Device\n",
    "device = torch.device('cuda' if torch.cuda.is_available() else 'cpu')\n",
    "print(f\"Using device: {device}\")\n",
    "\n",
    "# Versions\n",
    "print(f\"Torch: {torch.__version__}, TorchVision: {torchvision.__version__}\")"
   ]
  },
  {
   "cell_type": "markdown",
   "id": "b4fb1f6e-eedb-4a7e-b4f3-02ca806b721c",
   "metadata": {},
   "source": [
    "## Define parameters  "
   ]
  },
  {
   "cell_type": "code",
   "execution_count": 3,
   "id": "4eac0b38-2cd1-4c05-aeea-f7676e24d659",
   "metadata": {
    "execution": {
     "iopub.execute_input": "2025-08-22T18:07:07.994056Z",
     "iopub.status.busy": "2025-08-22T18:07:07.993638Z",
     "iopub.status.idle": "2025-08-22T18:07:08.000128Z",
     "shell.execute_reply": "2025-08-22T18:07:07.999332Z",
     "shell.execute_reply.started": "2025-08-22T18:07:07.994036Z"
    },
    "trusted": true
   },
   "outputs": [],
   "source": [
    "# Set seed for PyTorch\n",
    "seed = 42\n",
    "torch.manual_seed(seed)\n",
    "\n",
    "# Data prep params\n",
    "batch_size = 128\n",
    "\n",
    "# Model params\n",
    "latent_dim = 20\n",
    "beta_vae = 4.0\n",
    "\n",
    "# Optimizer params\n",
    "learning_rate = 1e-3    # Changed from wgan\n",
    "# beta1 = 0.5  # Adam optimizer beta1\n",
    "\n",
    "# # Loss params\n",
    "# criterion = nn.BCELoss()\n",
    "\n",
    "# Training params\n",
    "num_epochs = 50"
   ]
  },
  {
   "cell_type": "markdown",
   "id": "bb24207a-d509-4906-845e-6ba7386a979d",
   "metadata": {},
   "source": [
    "## Prepare data  "
   ]
  },
  {
   "cell_type": "code",
   "execution_count": 4,
   "id": "04e2c8d4-2e75-4220-bf0b-5d7eed3a4f3f",
   "metadata": {
    "execution": {
     "iopub.execute_input": "2025-08-22T18:07:08.001087Z",
     "iopub.status.busy": "2025-08-22T18:07:08.000898Z",
     "iopub.status.idle": "2025-08-22T18:07:08.096545Z",
     "shell.execute_reply": "2025-08-22T18:07:08.095726Z",
     "shell.execute_reply.started": "2025-08-22T18:07:08.001071Z"
    },
    "trusted": true
   },
   "outputs": [
    {
     "name": "stdout",
     "output_type": "stream",
     "text": [
      "Transform to be applied:\n",
      "ToTensor()\n",
      "\n",
      "Train data:\n",
      "Dataset MNIST\n",
      "    Number of datapoints: 60000\n",
      "    Root location: ./data\n",
      "    Split: Train\n",
      "    StandardTransform\n",
      "Transform: ToTensor()\n",
      "\n",
      "Data loader:\n",
      "<torch.utils.data.dataloader.DataLoader object at 0x7f81a85a0bd0>\n"
     ]
    }
   ],
   "source": [
    "# Transform\n",
    "transform = transforms.ToTensor()\n",
    "print(f\"Transform to be applied:\\n{transform}\\n\")\n",
    "\n",
    "# Load MNIST\n",
    "train_dataset = torchvision.datasets.MNIST(root='./data', train=True, download=True, transform=transform)\n",
    "print(f\"Train data:\\n{train_dataset}\\n\")\n",
    "\n",
    "# Dataloader\n",
    "train_loader = DataLoader(train_dataset, batch_size=batch_size, shuffle=True, drop_last=True) # Last batch will be 96 (6000 % 128) instead of 128, so drop to avoid problem with batch norm\n",
    "print(f\"Data loader:\\n{train_loader}\")"
   ]
  },
  {
   "cell_type": "markdown",
   "id": "e5e33335-93ff-4f27-b361-09c98c2c40b3",
   "metadata": {},
   "source": [
    "## Build Model  \n",
    "```Beta VAE```  \n",
    "\n",
    "**Probabilistic Neural Networks**  \n",
    "\n",
    "- Encoder\n",
    "    - Takes image, outputs mean and log var of latent space dim  \n",
    "- Reparametrization (z-sampler)\n",
    "    - Takes the mean and log var output by the Encoder and creates new z using epsilon (latent dim) from std normal  \n",
    "- Decoder\n",
    "    - Takes the z and outputs mean of x_hat (note that the var of x_hat is 1)  "
   ]
  },
  {
   "cell_type": "code",
   "execution_count": 5,
   "id": "095fa2db-ca3b-46fb-b1c0-bcf7a53824f3",
   "metadata": {
    "execution": {
     "iopub.execute_input": "2025-08-22T18:07:08.097579Z",
     "iopub.status.busy": "2025-08-22T18:07:08.097326Z",
     "iopub.status.idle": "2025-08-22T18:07:08.106177Z",
     "shell.execute_reply": "2025-08-22T18:07:08.105342Z",
     "shell.execute_reply.started": "2025-08-22T18:07:08.097555Z"
    },
    "trusted": true
   },
   "outputs": [],
   "source": [
    "class BetaVAE(nn.Module):\n",
    "    def __init__(self, latent_dim=20):\n",
    "        super(BetaVAE, self).__init__()\n",
    "        self.latent_dim = latent_dim\n",
    "\n",
    "        #--------------Encoder--------------\n",
    "        self.encoder = nn.Sequential(\n",
    "            # Input: (B, 1, 28, 28)\n",
    "            nn.Conv2d(1, 32, kernel_size=4, stride=2, padding=1),    # [B, 32, 14, 14]\n",
    "            nn.ReLU(True),\n",
    "            nn.Conv2d(32, 64, kernel_size=4, stride=2, padding=1),    # [B, 64, 7, 7]\n",
    "            nn.ReLU(True),\n",
    "            nn.Conv2d(64, 128, kernel_size=3, stride=2, padding=1),    # [B, 128, 4, 4]\n",
    "            nn.ReLU(True),\n",
    "        )\n",
    "        self.flatten = nn.Flatten()\n",
    "        self.mu = nn.Linear(128 * 4 * 4, self.latent_dim)\n",
    "        self.logvar = nn.Linear(128 * 4 * 4, self.latent_dim)\n",
    "\n",
    "        #--------------Decoder--------------\n",
    "        self.fc_decode = nn.Linear(self.latent_dim, 128*4*4)\n",
    "        self.decoder = nn.Sequential(\n",
    "            # Input: z (B, latent_dim)\n",
    "            nn.ConvTranspose2d(128, 64, kernel_size=4, stride=2, padding=1),    # [B, 64, 8, 8]\n",
    "            nn.ReLU(True),\n",
    "            nn.ConvTranspose2d(64, 32, kernel_size=4, stride=2, padding=1),    # [B, 32, 16, 16]\n",
    "            nn.ReLU(True),\n",
    "            nn.ConvTranspose2d(32, 1, kernel_size=4, stride=2, padding=1),    # [B, 1, 32, 32]\n",
    "            nn.Sigmoid(),\n",
    "        )\n",
    "\n",
    "    def encode(self, x):\n",
    "        h = self.encoder(x)\n",
    "        h_flat = self.flatten(h)\n",
    "        mu = self.mu(h_flat)\n",
    "        logvar = self.logvar(h_flat)\n",
    "        return mu, logvar\n",
    "\n",
    "    def reparameterize(self, mu, logvar):\n",
    "        eps = torch.randn_like(mu)\n",
    "        std = torch.exp(0.5 * logvar)\n",
    "        z = mu + std * eps\n",
    "        return z\n",
    "\n",
    "    def decode(self, z):\n",
    "        h = self.fc_decode(z)\n",
    "        h = h.view(-1, 128, 4, 4)\n",
    "        x_hat = self.decoder(h)\n",
    "        return x_hat[:, :, :28, :28]    # Crop to MNIST size\n",
    "        \n",
    "    def forward(self, x):\n",
    "        mu, logvar = self.encode(x)\n",
    "        z = self.reparameterize(mu, logvar)\n",
    "        x_hat = self.decode(z)\n",
    "        return x_hat, mu, logvar"
   ]
  },
  {
   "cell_type": "code",
   "execution_count": 6,
   "id": "ada15298-f3d4-46e9-b6b2-ec30229fe7d5",
   "metadata": {
    "execution": {
     "iopub.execute_input": "2025-08-22T18:07:08.107270Z",
     "iopub.status.busy": "2025-08-22T18:07:08.107016Z",
     "iopub.status.idle": "2025-08-22T18:07:08.281227Z",
     "shell.execute_reply": "2025-08-22T18:07:08.280591Z",
     "shell.execute_reply.started": "2025-08-22T18:07:08.107253Z"
    },
    "trusted": true
   },
   "outputs": [
    {
     "data": {
      "text/plain": [
       "BetaVAE(\n",
       "  (encoder): Sequential(\n",
       "    (0): Conv2d(1, 32, kernel_size=(4, 4), stride=(2, 2), padding=(1, 1))\n",
       "    (1): ReLU(inplace=True)\n",
       "    (2): Conv2d(32, 64, kernel_size=(4, 4), stride=(2, 2), padding=(1, 1))\n",
       "    (3): ReLU(inplace=True)\n",
       "    (4): Conv2d(64, 128, kernel_size=(3, 3), stride=(2, 2), padding=(1, 1))\n",
       "    (5): ReLU(inplace=True)\n",
       "  )\n",
       "  (flatten): Flatten(start_dim=1, end_dim=-1)\n",
       "  (mu): Linear(in_features=2048, out_features=20, bias=True)\n",
       "  (logvar): Linear(in_features=2048, out_features=20, bias=True)\n",
       "  (fc_decode): Linear(in_features=20, out_features=2048, bias=True)\n",
       "  (decoder): Sequential(\n",
       "    (0): ConvTranspose2d(128, 64, kernel_size=(4, 4), stride=(2, 2), padding=(1, 1))\n",
       "    (1): ReLU(inplace=True)\n",
       "    (2): ConvTranspose2d(64, 32, kernel_size=(4, 4), stride=(2, 2), padding=(1, 1))\n",
       "    (3): ReLU(inplace=True)\n",
       "    (4): ConvTranspose2d(32, 1, kernel_size=(4, 4), stride=(2, 2), padding=(1, 1))\n",
       "    (5): Sigmoid()\n",
       "  )\n",
       ")"
      ]
     },
     "execution_count": 6,
     "metadata": {},
     "output_type": "execute_result"
    }
   ],
   "source": [
    "model = BetaVAE(latent_dim).to(device)\n",
    "model"
   ]
  },
  {
   "cell_type": "markdown",
   "id": "6eea0e57-61cb-436a-94c0-1967eb67afd2",
   "metadata": {},
   "source": [
    "## Set up Optimizers  "
   ]
  },
  {
   "cell_type": "code",
   "execution_count": 7,
   "id": "d9c722e0-3fa5-45f7-8a22-b5afaeb99c9c",
   "metadata": {
    "execution": {
     "iopub.execute_input": "2025-08-22T18:07:08.282554Z",
     "iopub.status.busy": "2025-08-22T18:07:08.281971Z",
     "iopub.status.idle": "2025-08-22T18:07:08.287618Z",
     "shell.execute_reply": "2025-08-22T18:07:08.286794Z",
     "shell.execute_reply.started": "2025-08-22T18:07:08.282526Z"
    },
    "trusted": true
   },
   "outputs": [
    {
     "data": {
      "text/plain": [
       "Adam (\n",
       "Parameter Group 0\n",
       "    amsgrad: False\n",
       "    betas: (0.9, 0.999)\n",
       "    capturable: False\n",
       "    differentiable: False\n",
       "    eps: 1e-08\n",
       "    foreach: None\n",
       "    fused: None\n",
       "    lr: 0.001\n",
       "    maximize: False\n",
       "    weight_decay: 0\n",
       ")"
      ]
     },
     "execution_count": 7,
     "metadata": {},
     "output_type": "execute_result"
    }
   ],
   "source": [
    "optimizer = optim.Adam(model.parameters(), lr=learning_rate)\n",
    "optimizer"
   ]
  },
  {
   "cell_type": "markdown",
   "id": "bc17d46d-6619-4fbd-a456-625a7ac4294f",
   "metadata": {},
   "source": [
    "## Set up Loss functions  "
   ]
  },
  {
   "cell_type": "code",
   "execution_count": 8,
   "id": "270fe978-9776-4318-9260-1c07c731225d",
   "metadata": {
    "execution": {
     "iopub.execute_input": "2025-08-22T18:07:08.289056Z",
     "iopub.status.busy": "2025-08-22T18:07:08.288801Z",
     "iopub.status.idle": "2025-08-22T18:07:08.303403Z",
     "shell.execute_reply": "2025-08-22T18:07:08.302896Z",
     "shell.execute_reply.started": "2025-08-22T18:07:08.289032Z"
    },
    "trusted": true
   },
   "outputs": [],
   "source": [
    "def beta_vae_loss(x, x_hat, mu, logvar, beta=4.0):\n",
    "    # Recon loss + beta * KL Div\n",
    "\n",
    "    # Reconstruction loss: binary cross entropy\n",
    "    recon_loss = F.binary_cross_entropy(x_hat, x, reduction='sum')\n",
    "\n",
    "    # KL Divergence loss: between q(z|x) and N(0,I)\n",
    "    kl_div = -0.5 * torch.sum(1 + logvar - mu.pow(2) - logvar.exp())\n",
    "\n",
    "    # Total loss\n",
    "    loss = recon_loss + beta * kl_div\n",
    "\n",
    "    return loss, recon_loss, kl_div"
   ]
  },
  {
   "cell_type": "markdown",
   "id": "8f4bf6d3-c00a-4b90-8a36-4e349da1b381",
   "metadata": {},
   "source": [
    "## Training loop  "
   ]
  },
  {
   "cell_type": "code",
   "execution_count": 9,
   "id": "1667ffeb-e52f-41dd-9fca-89370abfd600",
   "metadata": {
    "execution": {
     "iopub.execute_input": "2025-08-22T18:07:08.304280Z",
     "iopub.status.busy": "2025-08-22T18:07:08.304004Z",
     "iopub.status.idle": "2025-08-22T18:07:08.326443Z",
     "shell.execute_reply": "2025-08-22T18:07:08.325926Z",
     "shell.execute_reply.started": "2025-08-22T18:07:08.304255Z"
    },
    "trusted": true
   },
   "outputs": [],
   "source": [
    "def vae_trainer(num_epochs, latent_dim, beta):\n",
    "    losses, recon_losses, kl_divs = [], [], []\n",
    "    for epoch in range(num_epochs):\n",
    "        model.train()\n",
    "        total_loss, total_recon, total_kl = 0, 0, 0\n",
    "\n",
    "        for batch in train_loader:\n",
    "            x, _ = batch\n",
    "            x = x.to(device)\n",
    "\n",
    "            x_hat, mu, logvar = model(x)\n",
    "            loss, recon, kl = beta_vae_loss(x, x_hat, mu, logvar, beta)\n",
    "\n",
    "            optimizer.zero_grad()\n",
    "            loss.backward()\n",
    "            optimizer.step()\n",
    "\n",
    "            total_loss += loss.item()\n",
    "            total_recon += recon.item()\n",
    "            total_kl += kl.item()\n",
    "\n",
    "        losses.append(total_loss / len(train_loader.dataset))\n",
    "        recon_losses.append(total_recon / len(train_loader.dataset))\n",
    "        kl_divs.append(total_kl / len(train_loader.dataset))\n",
    "\n",
    "        print(f\"Epoch {epoch+1}, Loss: {losses[-1]:.2f}, Recon: {recon_losses[-1]:.2f}, KL: {kl_divs[-1]:.2f}\")\n",
    "\n",
    "    return losses, recon_losses, kl_divs"
   ]
  },
  {
   "cell_type": "markdown",
   "id": "af7cfae9-a77e-4532-9358-3b4d219eb700",
   "metadata": {},
   "source": [
    "## Training  "
   ]
  },
  {
   "cell_type": "code",
   "execution_count": 10,
   "id": "61a64a07-388b-42c4-9fcf-7411b248c941",
   "metadata": {
    "execution": {
     "iopub.execute_input": "2025-08-22T18:07:08.327392Z",
     "iopub.status.busy": "2025-08-22T18:07:08.327145Z",
     "iopub.status.idle": "2025-08-22T18:07:08.342987Z",
     "shell.execute_reply": "2025-08-22T18:07:08.342474Z",
     "shell.execute_reply.started": "2025-08-22T18:07:08.327370Z"
    },
    "trusted": true
   },
   "outputs": [
    {
     "name": "stdout",
     "output_type": "stream",
     "text": [
      "Training started at 5698003.348476543\n"
     ]
    }
   ],
   "source": [
    "start = time.perf_counter()\n",
    "print(f\"Training started at {start}\")"
   ]
  },
  {
   "cell_type": "code",
   "execution_count": 11,
   "id": "0aa67012-6a8d-43b3-8487-d89142ef8bc8",
   "metadata": {
    "execution": {
     "iopub.execute_input": "2025-08-22T18:07:08.343840Z",
     "iopub.status.busy": "2025-08-22T18:07:08.343659Z",
     "iopub.status.idle": "2025-08-22T18:09:56.992844Z",
     "shell.execute_reply": "2025-08-22T18:09:56.992159Z",
     "shell.execute_reply.started": "2025-08-22T18:07:08.343825Z"
    },
    "trusted": true
   },
   "outputs": [
    {
     "name": "stdout",
     "output_type": "stream",
     "text": [
      "Epoch 1, Loss: 188.03, Recon: 167.82, KL: 5.05\n",
      "Epoch 2, Loss: 153.67, Recon: 119.11, KL: 8.64\n",
      "Epoch 3, Loss: 150.07, Recon: 113.25, KL: 9.20\n",
      "Epoch 4, Loss: 148.18, Recon: 110.38, KL: 9.45\n",
      "Epoch 5, Loss: 147.02, Recon: 108.67, KL: 9.59\n",
      "Epoch 6, Loss: 146.19, Recon: 107.39, KL: 9.70\n",
      "Epoch 7, Loss: 145.57, Recon: 106.50, KL: 9.77\n",
      "Epoch 8, Loss: 144.93, Recon: 105.79, KL: 9.78\n",
      "Epoch 9, Loss: 144.71, Recon: 105.24, KL: 9.87\n",
      "Epoch 10, Loss: 144.28, Recon: 104.71, KL: 9.89\n",
      "Epoch 11, Loss: 143.98, Recon: 104.24, KL: 9.93\n",
      "Epoch 12, Loss: 143.78, Recon: 103.92, KL: 9.97\n",
      "Epoch 13, Loss: 143.50, Recon: 103.62, KL: 9.97\n",
      "Epoch 14, Loss: 143.31, Recon: 103.40, KL: 9.98\n",
      "Epoch 15, Loss: 143.09, Recon: 103.06, KL: 10.01\n",
      "Epoch 16, Loss: 142.83, Recon: 102.82, KL: 10.00\n",
      "Epoch 17, Loss: 142.71, Recon: 102.71, KL: 10.00\n",
      "Epoch 18, Loss: 142.50, Recon: 102.39, KL: 10.03\n",
      "Epoch 19, Loss: 142.43, Recon: 102.33, KL: 10.03\n",
      "Epoch 20, Loss: 142.35, Recon: 102.12, KL: 10.06\n",
      "Epoch 21, Loss: 142.23, Recon: 102.03, KL: 10.05\n",
      "Epoch 22, Loss: 142.05, Recon: 101.78, KL: 10.07\n",
      "Epoch 23, Loss: 141.98, Recon: 101.71, KL: 10.07\n",
      "Epoch 24, Loss: 141.79, Recon: 101.51, KL: 10.07\n",
      "Epoch 25, Loss: 141.79, Recon: 101.42, KL: 10.09\n",
      "Epoch 26, Loss: 141.76, Recon: 101.36, KL: 10.10\n",
      "Epoch 27, Loss: 141.68, Recon: 101.20, KL: 10.12\n",
      "Epoch 28, Loss: 141.47, Recon: 101.07, KL: 10.10\n",
      "Epoch 29, Loss: 141.46, Recon: 101.00, KL: 10.12\n",
      "Epoch 30, Loss: 141.39, Recon: 100.93, KL: 10.11\n",
      "Epoch 31, Loss: 141.29, Recon: 100.81, KL: 10.12\n",
      "Epoch 32, Loss: 141.34, Recon: 100.77, KL: 10.14\n",
      "Epoch 33, Loss: 141.15, Recon: 100.63, KL: 10.13\n",
      "Epoch 34, Loss: 141.10, Recon: 100.55, KL: 10.14\n",
      "Epoch 35, Loss: 141.04, Recon: 100.47, KL: 10.14\n",
      "Epoch 36, Loss: 140.95, Recon: 100.49, KL: 10.12\n",
      "Epoch 37, Loss: 140.90, Recon: 100.33, KL: 10.14\n",
      "Epoch 38, Loss: 140.86, Recon: 100.23, KL: 10.16\n",
      "Epoch 39, Loss: 140.85, Recon: 100.26, KL: 10.15\n",
      "Epoch 40, Loss: 140.79, Recon: 100.10, KL: 10.17\n",
      "Epoch 41, Loss: 140.80, Recon: 100.11, KL: 10.17\n",
      "Epoch 42, Loss: 140.73, Recon: 100.04, KL: 10.17\n",
      "Epoch 43, Loss: 140.73, Recon: 100.00, KL: 10.18\n",
      "Epoch 44, Loss: 140.59, Recon: 99.87, KL: 10.18\n",
      "Epoch 45, Loss: 140.50, Recon: 99.86, KL: 10.16\n",
      "Epoch 46, Loss: 140.49, Recon: 99.82, KL: 10.17\n",
      "Epoch 47, Loss: 140.42, Recon: 99.67, KL: 10.19\n",
      "Epoch 48, Loss: 140.50, Recon: 99.72, KL: 10.19\n",
      "Epoch 49, Loss: 140.50, Recon: 99.68, KL: 10.21\n",
      "Epoch 50, Loss: 140.48, Recon: 99.66, KL: 10.20\n"
     ]
    }
   ],
   "source": [
    "losses, recon_losses, kl_divs = vae_trainer(num_epochs=num_epochs, \n",
    "                                            latent_dim=latent_dim, \n",
    "                                            beta=beta_vae\n",
    "                                           )"
   ]
  },
  {
   "cell_type": "code",
   "execution_count": 12,
   "id": "d2746da2-aaaa-4f8f-bb51-16d68cca8f51",
   "metadata": {
    "execution": {
     "iopub.execute_input": "2025-08-22T18:10:03.435532Z",
     "iopub.status.busy": "2025-08-22T18:10:03.435251Z",
     "iopub.status.idle": "2025-08-22T18:10:03.439715Z",
     "shell.execute_reply": "2025-08-22T18:10:03.438961Z",
     "shell.execute_reply.started": "2025-08-22T18:10:03.435512Z"
    },
    "trusted": true
   },
   "outputs": [
    {
     "name": "stdout",
     "output_type": "stream",
     "text": [
      "Training time: 0:04:51 (291.69 s)\n"
     ]
    }
   ],
   "source": [
    "# Check training time\n",
    "elapsed = time.perf_counter() - start\n",
    "print(f\"Training time: {datetime.timedelta(seconds=int(elapsed))} ({elapsed:.2f} s)\")"
   ]
  },
  {
   "cell_type": "markdown",
   "id": "f2416e28-5968-499a-8a95-42af87185309",
   "metadata": {},
   "source": [
    "## Code for visualizations  "
   ]
  },
  {
   "cell_type": "code",
   "execution_count": 13,
   "id": "999d59ba-a35f-4036-b401-2c2853a0037b",
   "metadata": {
    "execution": {
     "iopub.execute_input": "2025-08-22T18:10:09.151290Z",
     "iopub.status.busy": "2025-08-22T18:10:09.150976Z",
     "iopub.status.idle": "2025-08-22T18:10:09.457207Z",
     "shell.execute_reply": "2025-08-22T18:10:09.456349Z",
     "shell.execute_reply.started": "2025-08-22T18:10:09.151268Z"
    },
    "trusted": true
   },
   "outputs": [
    {
     "data": {
      "image/png": "[encoded data removed]",
      "text/plain": [
       "<Figure size 1000x500 with 1 Axes>"
      ]
     },
     "metadata": {},
     "output_type": "display_data"
    }
   ],
   "source": [
    "# Plot loss curves  \n",
    "plt.figure(figsize=(10,5))\n",
    "plt.plot(losses, label='Total Loss')\n",
    "plt.plot(recon_losses, label='Reconstruction Loss')\n",
    "plt.plot(kl_divs, label='KL Divergence')\n",
    "plt.xlabel(\"Epoch\")\n",
    "plt.ylabel(\"Loss\")\n",
    "plt.legend()\n",
    "plt.title(\"Beta-VAE Training Loss\")\n",
    "plt.grid(True)\n",
    "plt.show()"
   ]
  },
  {
   "cell_type": "code",
   "execution_count": 14,
   "id": "931d0ba1-405e-4c7e-af9a-1a343f237165",
   "metadata": {
    "execution": {
     "iopub.execute_input": "2025-08-22T18:10:09.458533Z",
     "iopub.status.busy": "2025-08-22T18:10:09.458268Z",
     "iopub.status.idle": "2025-08-22T18:10:09.826894Z",
     "shell.execute_reply": "2025-08-22T18:10:09.826193Z",
     "shell.execute_reply.started": "2025-08-22T18:10:09.458506Z"
    },
    "trusted": true
   },
   "outputs": [
    {
     "data": {
      "image/png": "[encoded data removed]",
      "text/plain": [
       "<Figure size 400x400 with 16 Axes>"
      ]
     },
     "metadata": {},
     "output_type": "display_data"
    }
   ],
   "source": [
    "def generate_images(model, num_images=16):\n",
    "    model.eval()\n",
    "    with torch.no_grad():\n",
    "        z = torch.randn(num_images, model.latent_dim).to(device)\n",
    "        samples = model.decode(z)\n",
    "    model.train()\n",
    "    return samples.cpu()\n",
    "\n",
    "samples = generate_images(model)\n",
    "\n",
    "# Plot generated digits\n",
    "plt.figure(figsize=(4, 4))\n",
    "for i in range(16):\n",
    "    plt.subplot(4, 4, i + 1)\n",
    "    plt.imshow(samples[i][0], cmap='gray')\n",
    "    plt.axis('off')\n",
    "plt.suptitle(\"Generated Digits from Beta-VAE\")\n",
    "plt.tight_layout()\n",
    "plt.show()"
   ]
  }
 ],
 "metadata": {
  "kaggle": {
   "accelerator": "none",
   "dataSources": [],
   "isGpuEnabled": false,
   "isInternetEnabled": true,
   "language": "python",
   "sourceType": "notebook"
  },
  "kernelspec": {
   "display_name": "Python 3",
   "language": "python",
   "name": "python3"
  },
  "language_info": {
   "codemirror_mode": {
    "name": "ipython",
    "version": 3
   },
   "file_extension": ".py",
   "mimetype": "text/x-python",
   "name": "python",
   "nbconvert_exporter": "python",
   "pygments_lexer": "ipython3",
   "version": "3.11.13"
  }
 },
 "nbformat": 4,
 "nbformat_minor": 5
}
